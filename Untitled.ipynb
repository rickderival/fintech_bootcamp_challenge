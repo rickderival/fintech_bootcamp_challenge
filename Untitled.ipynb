{
 "cells": [
  {
   "cell_type": "code",
   "execution_count": null,
   "id": "41dd186e-e25c-4cd7-97b3-c5f19a620433",
   "metadata": {},
   "outputs": [],
   "source": [
    "loan_costs = [500,600,1000,450]"
   ]
  },
  {
   "cell_type": "code",
   "execution_count": null,
   "id": "b11e5e18-47e0-4fc6-9635-eb633f8c0deb",
   "metadata": {},
   "outputs": [],
   "source": [
    "total_number_loans = len(loan_costs)"
   ]
  },
  {
   "cell_type": "code",
   "execution_count": null,
   "id": "cfda768e-c370-481c-ba1d-a8dd261067ed",
   "metadata": {},
   "outputs": [],
   "source": [
    "print(total_number_loans"
   ]
  },
  {
   "cell_type": "code",
   "execution_count": null,
   "id": "bfc1d19e-e553-4b46-a6eb-55a1651e1502",
   "metadata": {},
   "outputs": [],
   "source": []
  },
  {
   "cell_type": "code",
   "execution_count": null,
   "id": "80efa282-4053-4307-8997-e349969a6475",
   "metadata": {},
   "outputs": [],
   "source": []
  },
  {
   "cell_type": "code",
   "execution_count": null,
   "id": "f930402c-ab7e-4153-987f-775c098a975f",
   "metadata": {},
   "outputs": [],
   "source": []
  }
 ],
 "metadata": {
  "kernelspec": {
   "display_name": "Python 3",
   "language": "python",
   "name": "python3"
  },
  "language_info": {
   "codemirror_mode": {
    "name": "ipython",
    "version": 3
   },
   "file_extension": ".py",
   "mimetype": "text/x-python",
   "name": "python",
   "nbconvert_exporter": "python",
   "pygments_lexer": "ipython3",
   "version": "3.8.8"
  }
 },
 "nbformat": 4,
 "nbformat_minor": 5
}
